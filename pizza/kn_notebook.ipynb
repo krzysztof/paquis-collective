{
 "cells": [
  {
   "cell_type": "code",
   "execution_count": 7,
   "metadata": {},
   "outputs": [
    {
     "name": "stderr",
     "output_type": "stream",
     "text": [
      "  0%|          | 22/1000000 [00:00<1:16:06, 218.98it/s]"
     ]
    },
    {
     "name": "stdout",
     "output_type": "stream",
     "text": [
      "0\n"
     ]
    },
    {
     "name": "stderr",
     "output_type": "stream",
     "text": [
      "100%|██████████| 1000000/1000000 [00:07<00:00, 131729.74it/s]"
     ]
    },
    {
     "name": "stdout",
     "output_type": "stream",
     "text": [
      "36\n"
     ]
    },
    {
     "name": "stderr",
     "output_type": "stream",
     "text": [
      "\n"
     ]
    }
   ],
   "source": [
    "from collections import deque\n",
    "import sys\n",
    "from tqdm import tqdm\n",
    "import os\n",
    "\n",
    "class PrecomputedPizza:\n",
    "    def __init__(self, pizza):\n",
    "        self.pizza = pizza\n",
    "        self.precompute()\n",
    "\n",
    "    def precompute(self):\n",
    "        pizza = self.pizza\n",
    "        nrows = len(pizza)\n",
    "        ncols = len(pizza[0])\n",
    "        # [T, M]\n",
    "        dp = [[[0,0] for _ in range(ncols + 1)] for _ in range(nrows + 1)]\n",
    "        # i,j shifted by 1\n",
    "        for r in range(1, nrows+1):\n",
    "            for c in range(1, ncols+1):\n",
    "                dp[r][c][0] = dp[r-1][c][0] + dp[r][c-1][0] - dp[r-1][c-1][0] + (1 if pizza[r-1][c-1] == 'T' else 0)\n",
    "                dp[r][c][1] = dp[r-1][c][1] + dp[r][c-1][1] - dp[r-1][c-1][1] + (1 if pizza[r-1][c-1] == 'M' else 0)\n",
    "        self.dp = dp\n",
    "\n",
    "    def ingrid(self, i, j, k, l):\n",
    "        ingridients = []\n",
    "        for ingr in [0, 1]:\n",
    "            cnt = self.dp[k + 1][l + 1][ingr] + self.dp[i][j][ingr] -\\\n",
    "                self.dp[k + 1][j][ingr] - self.dp[i][l+1][ingr]\n",
    "            ingridients.append(cnt)\n",
    "        return min(ingridients)\n",
    "\n",
    "#infile = sys.argv[1]\n",
    "infile = 'medium.in'\n",
    "with open(infile, 'r') as fp:\n",
    "    lines = [l.strip() for l in fp.readlines()]\n",
    "\n",
    "nrow, ncol, L, M = list(map(int, lines[0].split(' ')))\n",
    "\n",
    "pizza = lines[1:]\n",
    "pizzaDP = PrecomputedPizza(pizza)\n",
    "print(pizzaDP.ingrid(0, 0, 0, 0))\n",
    "\n",
    "def getArea(r,c,r2,c2):\n",
    "    return (r2 - r + 1) * (c2 - c + 1)\n",
    "\n",
    "def compScore(sl):\n",
    "    Li = pizzaDP.ingrid(*sl)\n",
    "    A = getArea(*sl)\n",
    "    if Li >= L and A <= M:\n",
    "        return A, True\n",
    "    else:\n",
    "        return 0, False\n",
    "\n",
    "from copy import deepcopy as dpc\n",
    "maxsplitsA = -1\n",
    "maxsplits = None\n",
    "solidx = 0\n",
    "\n",
    "\n",
    "def write_sol():\n",
    "    global solidx\n",
    "    def get_solution_string(splits):\n",
    "        out = str(len(splits)) + '\\n'\n",
    "        for sp in splits:\n",
    "            sp, cnt = sp\n",
    "            out += \" \".join(map(str, sp)) + '\\n'\n",
    "        return out\n",
    "    sol = get_solution_string(maxsplits)\n",
    "\n",
    "    outfile = infile+'.out'+ '.{}'.format(str(solidx).zfill(6)) + \"_\" + str(maxsplitsA)\n",
    "    solidx += 1\n",
    "\n",
    "    with open(\"outs/\" + outfile, 'w') as fp:\n",
    "        fp.write(sol)\n",
    "\n",
    "\n",
    "def find():\n",
    "    global maxsplitsA\n",
    "    global maxsplits\n",
    "\n",
    "    q = deque()\n",
    "    q.append(([0, 0, nrow - 1, ncol - 1], []))\n",
    "    for i in tqdm(range(1000000)):\n",
    "        if not q:\n",
    "            break\n",
    "        sp, cursplits = q.pop()\n",
    "\n",
    "        r, c, r2, c2 = sp\n",
    "        A = getArea(r, c, r2, c2)\n",
    "        if A < (2 * L):\n",
    "            continue\n",
    "\n",
    "        S0, valid = compScore(sp)\n",
    "        S0new = (sum(s for _, s in cursplits) + S0)\n",
    "        if  S0new > maxsplitsA and valid:\n",
    "            maxsplitsA = S0new\n",
    "            maxsplits = dpc(cursplits) + [(sp,S0)]\n",
    "            #write_sol()\n",
    "\n",
    "        for colsp in range(c2 - c - 1):  # 0-> n-1 splits\n",
    "\n",
    "            spA = [r, c, r2, c + colsp]\n",
    "            S, valid = compScore(spA)\n",
    "\n",
    "            spB = [r, c + colsp + 1, r2, c2]\n",
    "            S2, valid2 = compScore(spB)\n",
    "\n",
    "            cursplits2 = dpc(cursplits) + ([(spA, S), ] if valid else [])\n",
    "            q.append([spB, cursplits2])\n",
    "            cursplits2 = dpc(cursplits) + ([(spB, S2), ] if valid2 else [])\n",
    "            q.append([spA, cursplits2])\n",
    "        for rowsp in range(r2 - r - 1):\n",
    "            spA = [r, c, r + rowsp, c2]\n",
    "            S, valid = compScore(spA)\n",
    "\n",
    "            spB = [r + rowsp + 1, c, r2, c2]\n",
    "            S2, valid2 = compScore(spB)\n",
    "\n",
    "            cursplits2 = dpc(cursplits) + ([(spA, S), ] if valid else [])\n",
    "            q.append([spB, cursplits2])\n",
    "            cursplits2 = dpc(cursplits) + ([(spB, S2), ] if valid2 else [])\n",
    "            q.append([spA, cursplits2])\n",
    "find()\n",
    "print(maxsplitsA)"
   ]
  },
  {
   "cell_type": "code",
   "execution_count": 10,
   "metadata": {},
   "outputs": [
    {
     "name": "stderr",
     "output_type": "stream",
     "text": [
      "WARNING: Disabling color, you really want to install colorlog.\n"
     ]
    }
   ],
   "source": [
    "%load_ext pythran.magic"
   ]
  },
  {
   "cell_type": "code",
   "execution_count": null,
   "metadata": {},
   "outputs": [],
   "source": [
    "%%pythran"
   ]
  }
 ],
 "metadata": {
  "kernelspec": {
   "display_name": "Python 3",
   "language": "python",
   "name": "python3"
  },
  "language_info": {
   "codemirror_mode": {
    "name": "ipython",
    "version": 3
   },
   "file_extension": ".py",
   "mimetype": "text/x-python",
   "name": "python",
   "nbconvert_exporter": "python",
   "pygments_lexer": "ipython3",
   "version": "3.6.4"
  }
 },
 "nbformat": 4,
 "nbformat_minor": 2
}
